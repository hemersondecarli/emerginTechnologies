{
 "cells": [
  {
   "cell_type": "markdown",
   "id": "7c1c388a-9f8b-48ad-aa91-0345fe585f94",
   "metadata": {},
   "source": [
    "# Third-order Letter Approximation Model\n",
    "- Creating a third-order letter approximation model from five English texts sourced from Project Gutenberg. texts will be processed by:\n",
    "- Removing unnecessary content (preamble, postamble).\n",
    "- Retaining only ASCII letters, full stops, and spaces.\n",
    "- Converting all letters to uppercase.\n",
    "\n",
    "Count the occurrences of each trigram (a sequence of three characters) to build a model of the English language based on these texts.\n"
   ]
  },
  {
   "cell_type": "markdown",
   "id": "18e1b8d5-f530-4a02-a266-cb053a9fa736",
   "metadata": {},
   "source": [
    ".txt files saved on local directory / using py. to read them."
   ]
  },
  {
   "cell_type": "code",
   "execution_count": 38,
   "id": "fd73d5a5-0c3b-4127-a202-86ea1dd64c44",
   "metadata": {},
   "outputs": [],
   "source": [
    "# List of file paths for the texts\n",
    "file_paths = [\n",
    "    r\"C:\\Users\\hemer\\emerginTechnologies\\Text\\betrothed.txt\",\n",
    "    r\"C:\\Users\\hemer\\emerginTechnologies\\Text\\chronicles.txt\",\n",
    "    r\"C:\\Users\\hemer\\emerginTechnologies\\Text\\Frank.txt\",\n",
    "    r\"C:\\Users\\hemer\\emerginTechnologies\\Text\\school.txt\",\n",
    "    r\"C:\\Users\\hemer\\emerginTechnologies\\Text\\voyage.txt\"\n",
    "]\n",
    "\n",
    "# Function to read the content of each file\n",
    "def load_texts(file_paths):\n",
    "    texts = []\n",
    "    for path in file_paths:\n",
    "        with open(path, 'r', encoding='utf-8') as file:\n",
    "            texts.append(file.read())\n",
    "    return texts\n",
    "\n",
    "# Load all texts\n",
    "texts = load_texts(file_paths)\n"
   ]
  },
  {
   "cell_type": "code",
   "execution_count": null,
   "id": "281d5605-206a-4c8f-aedb-ad246559c0e2",
   "metadata": {},
   "outputs": [],
   "source": []
  }
 ],
 "metadata": {
  "kernelspec": {
   "display_name": "Python 3 (ipykernel)",
   "language": "python",
   "name": "python3"
  },
  "language_info": {
   "codemirror_mode": {
    "name": "ipython",
    "version": 3
   },
   "file_extension": ".py",
   "mimetype": "text/x-python",
   "name": "python",
   "nbconvert_exporter": "python",
   "pygments_lexer": "ipython3",
   "version": "3.12.7"
  }
 },
 "nbformat": 4,
 "nbformat_minor": 5
}
