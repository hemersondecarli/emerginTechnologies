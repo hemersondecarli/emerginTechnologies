{
 "cells": [
  {
   "cell_type": "markdown",
   "id": "7c1c388a-9f8b-48ad-aa91-0345fe585f94",
   "metadata": {},
   "source": [
    "# Task 1: Third-order Letter Approximation Model\n",
    "In this task, we are creating a third-order letter approximation model from five English texts sourced from Project Gutenberg. We'll preprocess the texts by:\n",
    "- Removing unnecessary content (preamble, postamble).\n",
    "- Retaining only ASCII letters, full stops, and spaces.\n",
    "- Converting all letters to uppercase.\n",
    "\n",
    "Then, we'll count the occurrences of each trigram (a sequence of three characters) to build a model of the English language based on these texts.\n"
   ]
  },
  {
   "cell_type": "code",
   "execution_count": null,
   "id": "2cd146e7-faa3-4854-8ccf-607f28bd30c4",
   "metadata": {},
   "outputs": [],
   "source": [
    "# List of file paths for the texts, assuming they're saved in the same directory\n",
    "file_paths = [\"text1.txt\", \"text2.txt\", \"text3.txt\", \"text4.txt\", \"text5.txt\"]\n",
    "\n",
    "# Function to read the content of each file\n",
    "def load_texts(file_paths):\n",
    "    texts = []\n",
    "    for path in file_paths:\n",
    "        with open(path, 'r', encoding='utf-8') as file:\n",
    "            texts.append(file.read())\n",
    "    return texts\n",
    "\n",
    "# Load all texts\n",
    "texts = load_texts(file_paths)\n"
   ]
  }
 ],
 "metadata": {
  "kernelspec": {
   "display_name": "Python 3 (ipykernel)",
   "language": "python",
   "name": "python3"
  },
  "language_info": {
   "codemirror_mode": {
    "name": "ipython",
    "version": 3
   },
   "file_extension": ".py",
   "mimetype": "text/x-python",
   "name": "python",
   "nbconvert_exporter": "python",
   "pygments_lexer": "ipython3",
   "version": "3.12.7"
  }
 },
 "nbformat": 4,
 "nbformat_minor": 5
}
